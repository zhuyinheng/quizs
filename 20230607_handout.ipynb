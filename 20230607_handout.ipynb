{
 "cells": [
  {
   "cell_type": "code",
   "execution_count": null,
   "metadata": {},
   "outputs": [],
   "source": [
    "import numpy as np"
   ]
  },
  {
   "attachments": {},
   "cell_type": "markdown",
   "metadata": {},
   "source": [
    "### Matrix Hadamard product\n",
    "Hadamard product($\\odot$)，also known as element-wise product.\n",
    "\n",
    "For example, given $A \\in \\mathbb{R}^{N \\times M}$, $B \\in \\mathbb{R}^{N \\times M}$, $X=A\\odot B$ can be obtained by：\n",
    "$X[i,j]=A[i,j]*B[i,j]$"
   ]
  },
  {
   "cell_type": "code",
   "execution_count": null,
   "metadata": {},
   "outputs": [],
   "source": [
    "A=np.random.randn(4,4)\n",
    "B=np.random.randn(4,4)\n",
    "X=None\n",
    "# write your answer below:"
   ]
  },
  {
   "attachments": {},
   "cell_type": "markdown",
   "metadata": {},
   "source": [
    "### Pair-wise Matrix Hadamard product\n",
    "Given A,B are vector(list)s of matrices, $A \\in \\mathbb{R}^{P \\times N \\times M}$, $B \\in \\mathbb{R}^{Q \\times N \\times M}$, where P and Q are the length of A, B respectively.\n",
    "$i^{th}$ matrix in A is denoted as $A[i]$. Similarly $B[j]$ can be defined.\n",
    "The pair-wise product of A and B, denoted as $X \\in \\mathbb{R}^{P\\times Q \\times N \\times M}$,is defined as:\n",
    "\n",
    "For any pair of $A[i]$ and $B[j]$, $X[i,j]=A[i]\\odot B[j]$\n"
   ]
  },
  {
   "cell_type": "code",
   "execution_count": null,
   "metadata": {},
   "outputs": [],
   "source": [
    "A=np.random.randn(100,4,4)\n",
    "B=np.random.randn(100,4,4)\n",
    "X=None\n",
    "# write your answer below:\n",
    "# hint: \n",
    "# A.shape=[100,4,4], B.shape=[100,4,4]\n",
    "# X.shape=[100,100,4,4]\n",
    "\n"
   ]
  },
  {
   "attachments": {},
   "cell_type": "markdown",
   "metadata": {},
   "source": [
    "### Matrix dot product\n",
    "Given $A \\in R^{N \\times M}$、$B \\in R^{M \\times K}$, solve $X=A\\cdot B$, where $X\\in R^{N \\times K}$"
   ]
  },
  {
   "cell_type": "code",
   "execution_count": null,
   "metadata": {},
   "outputs": [],
   "source": [
    "A=np.random.randn(4,4)\n",
    "B=np.random.randn(4,4)\n",
    "X=None\n",
    "# write your answer below:"
   ]
  },
  {
   "attachments": {},
   "cell_type": "markdown",
   "metadata": {},
   "source": [
    "### Pair-wise matrix dot product\n",
    "Given A,B are vector(list)s of matrices, $A \\in \\mathbb{R}^{P \\times N \\times M}$, $B \\in \\mathbb{R}^{Q \\times M \\times K}$, where P and Q are the length of A, B respectively.\n",
    "$i^{th}$ matrix in A is denoted as $A[i]$. Similarly $B[j]$ can be defined.\n",
    "The pair-wise product of A and B, denoted as $X \\in \\mathbb{R}^{P\\times Q \\times N \\times K}$,is defined as:\n",
    "\n",
    "For any pair of $A[i]$ and $B[j]$, $X[i,j]=A[i]\\cdot B[j]$\n"
   ]
  },
  {
   "cell_type": "code",
   "execution_count": null,
   "metadata": {},
   "outputs": [],
   "source": [
    "A=np.random.randn(100,4,4)\n",
    "B=np.random.randn(100,4,4)\n",
    "X=None\n",
    "# write your answer below:\n"
   ]
  },
  {
   "attachments": {},
   "cell_type": "markdown",
   "metadata": {},
   "source": [
    "### Least square root of homogeneous equations\n",
    "Given matrix $A\\in \\mathbb{R}^{N\\times M}$, $Ax=0$ and $||x||=1$, find x in the least square sense.\n",
    "\n",
    "Noted that N>>M, which means the system is overdetermined."
   ]
  },
  {
   "cell_type": "code",
   "execution_count": null,
   "metadata": {},
   "outputs": [],
   "source": [
    "\n",
    "A=np.random.rand(512,3)\n",
    "x=None\n",
    "# write your answer below:\n",
    "\n"
   ]
  },
  {
   "attachments": {},
   "cell_type": "markdown",
   "metadata": {},
   "source": [
    "#### Nearest scatter interpolation\n",
    "Known 3d point cloud $P \\in \\mathbb{R}^{N\\times 3}$, and attribute,e.g., temperature, defined on point cloud $A \\in \\mathbb{R}^{N\\times 1}$.\n",
    "\n",
    "Given another point cloud $Q \\in \\mathbb{R}^{M\\times 3}$, estimate it's attribute $B\\in \\mathbb{R}^{M\\times 1}$.\n",
    "The estimation is based of nearest metric.\n",
    "\n",
    "For example, for $i^{th}$ point in Q, denoted as $Q[i]$, your should firstly find the nearest point to $Q[i]$. The nearest point is denoted as $P[j]$. Then the nearest estimation $B[i]$ is $ A[j]$."
   ]
  },
  {
   "cell_type": "code",
   "execution_count": null,
   "metadata": {},
   "outputs": [],
   "source": [
    "P=np.random.randn(100,3)\n",
    "A=np.random.randn(100,10)\n",
    "Q =np.random.randn(200,3)\n",
    "# write your answer below:\n",
    "B=None"
   ]
  },
  {
   "attachments": {},
   "cell_type": "markdown",
   "metadata": {},
   "source": [
    "#### implicit representation\n",
    "1. read the following code clip\n",
    "2. describe the purpose\n",
    "3. fill within the SECTION"
   ]
  },
  {
   "cell_type": "code",
   "execution_count": null,
   "metadata": {},
   "outputs": [],
   "source": [
    "img_gt=np.random.randn(512,512)\n",
    "img_sampled_coord=((np.random.randn(100,2)+1)*256).clip(0,511).astype(np.int32)\n",
    "img_sampled_intensity=img_gt[img_sampled_coord[:,0],img_sampled_coord[:,1]]\n",
    "\n",
    "import torch\n",
    "class NN(torch.nn.Module):\n",
    "    def __init__(self) -> None:\n",
    "        super().__init__()\n",
    "        self.layers=None\n",
    "        # SECTION start: fill within SECTION\n",
    "\n",
    "        # SECTION end: fill within SECTION\n",
    "    def forward(self,x):\n",
    "        y=None\n",
    "        # SECTION start: fill within SECTION\n",
    "\n",
    "        # SECTION end: fill within SECTION\n",
    "        return y\n",
    "optimizer=torch.optim.Adam(NN.parameters(),1e-2)\n",
    "nn=NN()\n",
    "for i in range(100):\n",
    "    optimizer.zero_grad()\n",
    "    y=nn(img_sampled_coord)\n",
    "    loss=torch.norm(y-img_sampled_intensity,dim=-1).sum()\n",
    "    loss.backward()\n",
    "    print(loss)\n",
    "    optimizer.step()\n",
    "\n",
    "    "
   ]
  }
 ],
 "metadata": {
  "kernelspec": {
   "display_name": "py",
   "language": "python",
   "name": "python3"
  },
  "language_info": {
   "codemirror_mode": {
    "name": "ipython",
    "version": 3
   },
   "file_extension": ".py",
   "mimetype": "text/x-python",
   "name": "python",
   "nbconvert_exporter": "python",
   "pygments_lexer": "ipython3",
   "version": "3.9.16"
  },
  "orig_nbformat": 4
 },
 "nbformat": 4,
 "nbformat_minor": 2
}
